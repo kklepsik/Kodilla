{
 "cells": [
  {
   "cell_type": "code",
   "execution_count": 1,
   "id": "341601c5",
   "metadata": {},
   "outputs": [],
   "source": [
    "import pandas as pd\n",
    "from sklearn.model_selection import train_test_split, GridSearchCV\n",
    "from sklearn.pipeline import Pipeline\n",
    "from sklearn.preprocessing import StandardScaler\n",
    "from sklearn.linear_model import LogisticRegression\n",
    "from sklearn.ensemble import RandomForestClassifier\n",
    "from sklearn.metrics import classification_report, roc_auc_score"
   ]
  },
  {
   "cell_type": "code",
   "execution_count": 2,
   "id": "761115fe",
   "metadata": {},
   "outputs": [],
   "source": [
    "# Wczytanie danych\n",
    "data = pd.read_csv(\"diabetes.csv\")\n",
    "X = data.drop(\"Diabetic\", axis=1)\n",
    "y = data[\"Diabetic\"]\n",
    "\n",
    "# Podział danych na treningowe i testowe\n",
    "X_train, X_test, y_train, y_test = train_test_split(X, y, test_size=0.3, stratify=y, random_state=42)"
   ]
  },
  {
   "cell_type": "code",
   "execution_count": 3,
   "id": "bddee4f2",
   "metadata": {},
   "outputs": [],
   "source": [
    "# Pipeline dla regresji logistycznej (ze skalowaniem)\n",
    "pipe_logistic = Pipeline([\n",
    "    ('scaler', StandardScaler()),                    # Standaryzacja cech\n",
    "    ('classifier', LogisticRegression(solver='liblinear'))  # Klasyfikator\n",
    "])\n",
    "\n",
    "# Pipeline dla lasu losowego (bez skalowania)\n",
    "pipe_rf = Pipeline([\n",
    "    ('classifier', RandomForestClassifier(n_estimators=100, random_state=42))  # Klasyfikator\n",
    "])"
   ]
  },
  {
   "cell_type": "code",
   "execution_count": 4,
   "id": "d2c10331",
   "metadata": {},
   "outputs": [
    {
     "name": "stdout",
     "output_type": "stream",
     "text": [
      "\n",
      "Logistic Regression\n",
      "              precision    recall  f1-score   support\n",
      "\n",
      "           0       0.81      0.88      0.84      3000\n",
      "           1       0.71      0.59      0.65      1500\n",
      "\n",
      "    accuracy                           0.78      4500\n",
      "   macro avg       0.76      0.74      0.74      4500\n",
      "weighted avg       0.78      0.78      0.78      4500\n",
      "\n",
      "AUC: 0.8573\n",
      "\n",
      "Random Forest\n",
      "              precision    recall  f1-score   support\n",
      "\n",
      "           0       0.94      0.96      0.95      3000\n",
      "           1       0.91      0.88      0.90      1500\n",
      "\n",
      "    accuracy                           0.93      4500\n",
      "   macro avg       0.93      0.92      0.92      4500\n",
      "weighted avg       0.93      0.93      0.93      4500\n",
      "\n",
      "AUC: 0.9802\n"
     ]
    }
   ],
   "source": [
    "# Trenowanie i porównanie modeli\n",
    "for name, pipeline in [(\"Logistic Regression\", pipe_logistic), (\"Random Forest\", pipe_rf)]:\n",
    "    pipeline.fit(X_train, y_train)                             # Uczenie modelu\n",
    "    y_pred = pipeline.predict(X_test)                          # Przewidywania klas\n",
    "    y_proba = pipeline.predict_proba(X_test)[:, 1]             # Prawdopodobieństwo klasy pozytywnej\n",
    "\n",
    "    print(f\"\\n{name}\")\n",
    "    print(classification_report(y_test, y_pred))               # Raport metryk\n",
    "    print(f\"AUC: {roc_auc_score(y_test, y_proba):.4f}\")        # Metryka AUC"
   ]
  },
  {
   "cell_type": "code",
   "execution_count": 6,
   "id": "71cbf4b0",
   "metadata": {},
   "outputs": [
    {
     "name": "stdout",
     "output_type": "stream",
     "text": [
      "\n",
      "Najlepsze hiperparametry:\n",
      "{'rf__max_depth': None, 'rf__min_samples_leaf': 2, 'rf__min_samples_split': 5, 'rf__n_estimators': 150}\n",
      "\n",
      "Wyniki dla modelu po GridSearch:\n",
      "              precision    recall  f1-score   support\n",
      "\n",
      "           0       0.94      0.96      0.95      3000\n",
      "           1       0.91      0.88      0.90      1500\n",
      "\n",
      "    accuracy                           0.93      4500\n",
      "   macro avg       0.93      0.92      0.92      4500\n",
      "weighted avg       0.93      0.93      0.93      4500\n",
      "\n",
      "AUC (GridSearch): 0.9803\n"
     ]
    }
   ],
   "source": [
    "# GridSearch – strojenie hiperparametrów\n",
    "\n",
    "# Pipeline do strojenia\n",
    "pipe_grid = Pipeline([\n",
    "    (\"scaler\", StandardScaler()),\n",
    "    (\"rf\", RandomForestClassifier(random_state=42))\n",
    "])\n",
    "\n",
    "# Siatka hiperparametrów do przeszukania\n",
    "param_grid = {\n",
    "    \"rf__n_estimators\": [50, 100, 150],         # liczba drzew\n",
    "    \"rf__max_depth\": [3, 5, 10, None],          # maksymalna głębokość drzewa\n",
    "    \"rf__min_samples_split\": [2, 5],            # min. próbki do podziału\n",
    "    \"rf__min_samples_leaf\": [1, 2]              # min. próbki w liściu\n",
    "}\n",
    "\n",
    "# GridSearch z 5-krotną walidacją krzyżową\n",
    "grid_search = GridSearchCV(pipe_grid, param_grid, cv=5, scoring='roc_auc', n_jobs=-1)\n",
    "grid_search.fit(X_train, y_train)\n",
    "\n",
    "# Najlepsze hiperparametry\n",
    "print(\"\\nNajlepsze hiperparametry:\")\n",
    "print(grid_search.best_params_)\n",
    "\n",
    "# Ewaluacja najlepszego modelu\n",
    "best_model = grid_search.best_estimator_\n",
    "y_pred_best = best_model.predict(X_test)\n",
    "y_proba_best = best_model.predict_proba(X_test)[:, 1]\n",
    "\n",
    "print(\"\\nWyniki dla modelu po GridSearch:\")\n",
    "print(classification_report(y_test, y_pred_best))\n",
    "print(f\"AUC (GridSearch): {roc_auc_score(y_test, y_proba_best):.4f}\")"
   ]
  },
  {
   "cell_type": "code",
   "execution_count": null,
   "id": "43259132",
   "metadata": {},
   "outputs": [],
   "source": []
  }
 ],
 "metadata": {
  "kernelspec": {
   "display_name": "Python 3.12 (ML)",
   "language": "python",
   "name": "ml-venv"
  },
  "language_info": {
   "codemirror_mode": {
    "name": "ipython",
    "version": 3
   },
   "file_extension": ".py",
   "mimetype": "text/x-python",
   "name": "python",
   "nbconvert_exporter": "python",
   "pygments_lexer": "ipython3",
   "version": "3.12.10"
  }
 },
 "nbformat": 4,
 "nbformat_minor": 5
}
