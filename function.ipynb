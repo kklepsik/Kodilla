{
 "cells": [
  {
   "cell_type": "code",
   "execution_count": 59,
   "id": "50670640-73d1-4af2-9dee-22d65009232f",
   "metadata": {},
   "outputs": [],
   "source": [
    "def dodawanie(x, y):\n",
    "    wynik = x + y\n",
    "    return wynik"
   ]
  },
  {
   "cell_type": "markdown",
   "id": "921ddec7-bba2-4611-b9df-f0615e5c766b",
   "metadata": {},
   "source": [
    "#opis"
   ]
  },
  {
   "cell_type": "code",
   "execution_count": 60,
   "id": "f2229d3d-14b3-44b4-960a-1bdd84a0b18c",
   "metadata": {},
   "outputs": [
    {
     "data": {
      "text/plain": [
       "8"
      ]
     },
     "execution_count": 60,
     "metadata": {},
     "output_type": "execute_result"
    }
   ],
   "source": [
    "dodawanie(5,3)"
   ]
  },
  {
   "cell_type": "code",
   "execution_count": null,
   "id": "bdcc182f-1ec3-4da2-81da-b8c9f60ee677",
   "metadata": {},
   "outputs": [],
   "source": []
  }
 ],
 "metadata": {
  "kernelspec": {
   "display_name": "Python 3 (ipykernel)",
   "language": "python",
   "name": "python3"
  },
  "language_info": {
   "codemirror_mode": {
    "name": "ipython",
    "version": 3
   },
   "file_extension": ".py",
   "mimetype": "text/x-python",
   "name": "python",
   "nbconvert_exporter": "python",
   "pygments_lexer": "ipython3",
   "version": "3.13.3"
  }
 },
 "nbformat": 4,
 "nbformat_minor": 5
}
