{
 "cells": [
  {
   "cell_type": "markdown",
   "id": "73636606",
   "metadata": {},
   "source": [
    "Zadanie: kanały sprzedaży\n",
    "Do tej pory stworzyliśmy dwie zakładki dashboardu, które dotyczą ogólnego poziomu sprzedaży oraz analityki dotyczącej produktów. Twoim zadaniem będzie stworzenie trzeciej zakładki, która zawierać będzie dane dotyczące kanałów sprzedaży ('Store_type').\n",
    "Zarząd powinien dostać informacje przynajmniej na temat tego, w jakich dniach tygodnia dokonuje się najwięcej sprzedaży w zależności od kanału sprzedaży.\n",
    "Zarząd chciałby również dowiedzieć się czegoś więcej o klientach każdego z kanałów sprzedaży. Sposób prezentacji oraz funkcjonalność widgetów pozostawiamy Tobie.\n",
    "Życzymy powodzenia, do dzieła!"
   ]
  },
  {
   "cell_type": "markdown",
   "id": "77981418",
   "metadata": {},
   "source": [
    "ZADANIE W ODDZIELNYCH PLIKACH app.py tab.py"
   ]
  },
  {
   "cell_type": "code",
   "execution_count": 29,
   "id": "1b6e4db7",
   "metadata": {},
   "outputs": [],
   "source": [
    "import pandas as pd\n",
    "import datetime as dt\n",
    "import os\n",
    "import dash as dash\n",
    "from dash import Dash, dcc, html, Input, Output\n",
    "import plotly.graph_objs as go"
   ]
  },
  {
   "cell_type": "markdown",
   "id": "33b430a2",
   "metadata": {},
   "source": [
    "Tworzenie klasy dla danych wejściowych"
   ]
  },
  {
   "cell_type": "code",
   "execution_count": 21,
   "id": "47011d91",
   "metadata": {},
   "outputs": [],
   "source": [
    "class db:\n",
    "    def __init__(self):\n",
    "        self.transactions = db.transation_init()\n",
    "        self.cc = pd.read_csv(r'db\\country_codes.csv',index_col=0)\n",
    "        self.customers = pd.read_csv(r'db\\customers.csv',index_col=0)\n",
    "        self.prod_info = pd.read_csv(r'db\\prod_cat_info.csv')"
   ]
  },
  {
   "cell_type": "markdown",
   "id": "98cc706b",
   "metadata": {},
   "source": [
    "Przekształcenie danych do DataFrame i do formatu dat"
   ]
  },
  {
   "cell_type": "code",
   "execution_count": 22,
   "id": "90046abb",
   "metadata": {},
   "outputs": [],
   "source": [
    "@staticmethod\n",
    "def transation_init():\n",
    "    transactions = pd.DataFrame()\n",
    "    src = r'db\\transactions'\n",
    "    for filename in os.listdir(src):\n",
    "        transactions = transactions.append(pd.read_csv(os.path.join(src,filename),index_col=0))\n",
    "\n",
    "    def convert_dates(x):\n",
    "        try:\n",
    "            return dt.datetime.strptime(x,'%d-%m-%Y')\n",
    "        except:\n",
    "            return dt.datetime.strptime(x,'%d/%m/%Y')\n",
    "\n",
    "    transactions['tran_date'] = transactions['tran_date'].apply(lambda x: convert_dates(x))\n",
    "\n",
    "    return transactions"
   ]
  },
  {
   "cell_type": "markdown",
   "id": "bcaaad09",
   "metadata": {},
   "source": [
    "Połączenie baz danych"
   ]
  },
  {
   "cell_type": "code",
   "execution_count": 23,
   "id": "5c82593d",
   "metadata": {},
   "outputs": [],
   "source": [
    "def merge(self):\n",
    "    df = self.transactions.join(self.prod_info.drop_duplicates(subset=['prod_cat_code'])\n",
    "    .set_index('prod_cat_code')['prod_cat'],on='prod_cat_code',how='left')\n",
    "\n",
    "    df = df.join(self.prod_info.drop_duplicates(subset=['prod_sub_cat_code'])\n",
    "    .set_index('prod_sub_cat_code')['prod_subcat'],on='prod_subcat_code',how='left')\n",
    "\n",
    "    df = df.join(self.customers.join(self.cc,on='country_code')\n",
    "    .set_index('customer_Id'),on='cust_id')\n",
    "\n",
    "    self.merged = df\n",
    "\n",
    "\n",
    "    df = db()\n",
    "    df.merge()"
   ]
  },
  {
   "cell_type": "markdown",
   "id": "e54033c0",
   "metadata": {},
   "source": [
    "Tworzenie layoutu dashboardu"
   ]
  },
  {
   "cell_type": "code",
   "execution_count": 24,
   "id": "727dd1df",
   "metadata": {},
   "outputs": [],
   "source": [
    "external_stylesheets = ['https://codepen.io/chriddyp/pen/bWLwgP.css']\n",
    "\n",
    "app = dash.Dash(__name__, external_stylesheets=external_stylesheets)"
   ]
  },
  {
   "cell_type": "code",
   "execution_count": null,
   "id": "443d9d27",
   "metadata": {},
   "outputs": [
    {
     "data": {
      "text/plain": [
       "[Tabs(children=[Tab(label='Sprzedaż globalna', value='tab-1'), Tab(label='Produkty', value='tab-2')], id='tabs', value='tab-1'),\n",
       " Div(id='tabs-content')]"
      ]
     },
     "execution_count": 26,
     "metadata": {},
     "output_type": "execute_result"
    }
   ],
   "source": [
    "app.layout = html.Div([html.Div([dcc.Tabs(id='tabs',value='tab-1',children=[\n",
    "    dcc.Tab(label='Sprzedaż globalna',value='tab-1'),\n",
    "    dcc.Tab(label='Produkty',value='tab-2')]),\n",
    "    html.Div(id='tabs-content')],\n",
    "    \n",
    "    style={'width':'80%','margin':'auto'})],\n",
    "    style={'height':'100%'})\n",
    "\n"
   ]
  },
  {
   "cell_type": "markdown",
   "id": "c2582198",
   "metadata": {},
   "source": [
    "Ustawienie zakłądki sprzedaż globalna"
   ]
  },
  {
   "cell_type": "code",
   "execution_count": 27,
   "id": "3088479c",
   "metadata": {},
   "outputs": [],
   "source": [
    "def render_tab(df):\n",
    "\n",
    "    layout = html.Div([html.H1('Sprzedaż globalna',style={'text-align':'center'}),\n",
    "                        html.Div([dcc.DatePickerRange(id='sales-range',\n",
    "                        start_date=df['tran_date'].min(),\n",
    "                        end_date=df['tran_date'].max(),\n",
    "                        display_format='YYYY-MM-DD')],style={'width':'100%','text-align':'center'}),\n",
    "                        html.Div([html.Div([dcc.Graph(id='bar-sales')],style={'width':'50%'}),\n",
    "                        html.Div([dcc.Graph(id='choropleth-sales')],style={'width':'50%'})],style={'display':'flex'})\n",
    "                        ])\n",
    "\n",
    "    return layout"
   ]
  },
  {
   "cell_type": "markdown",
   "id": "099b2dbe",
   "metadata": {},
   "source": [
    "Ustawienie zakładki z produktami"
   ]
  },
  {
   "cell_type": "code",
   "execution_count": 28,
   "id": "9500e256",
   "metadata": {},
   "outputs": [],
   "source": [
    "def render_tab(df):\n",
    "\n",
    "    grouped = df[df['total_amt']>0].groupby('prod_cat')['total_amt'].sum()\n",
    "    fig = go.Figure(data=[go.Pie(labels=grouped.index,values=grouped.values)],layout=go.Layout(title='Udział grup produktów w sprzedaży'))\n",
    "\n",
    "    layout = html.Div([html.H1('Produkty',style={'text-align':'center'}),\n",
    "\n",
    "                        html.Div([html.Div([dcc.Graph(id='pie-prod-cat',figure=fig)],style={'width':'50%'}),\n",
    "                        html.Div([dcc.Dropdown(id='prod_dropdown',\n",
    "                                    options=[{'label':prod_cat,'value':prod_cat} for prod_cat in df['prod_cat'].unique()],\n",
    "                                    value=df['prod_cat'].unique()[0]),\n",
    "                                    dcc.Graph(id='barh-prod-subcat')],style={'width':'50%'})],style={'display':'flex'}),\n",
    "                                    html.Div(id='temp-out')\n",
    "                        ])\n",
    "\n",
    "    return layout"
   ]
  },
  {
   "cell_type": "code",
   "execution_count": null,
   "id": "939796c2",
   "metadata": {},
   "outputs": [],
   "source": []
  }
 ],
 "metadata": {
  "kernelspec": {
   "display_name": "Python (plotly_dash)",
   "language": "python",
   "name": "plotly_dash_env"
  },
  "language_info": {
   "codemirror_mode": {
    "name": "ipython",
    "version": 3
   },
   "file_extension": ".py",
   "mimetype": "text/x-python",
   "name": "python",
   "nbconvert_exporter": "python",
   "pygments_lexer": "ipython3",
   "version": "3.13.4"
  }
 },
 "nbformat": 4,
 "nbformat_minor": 5
}
