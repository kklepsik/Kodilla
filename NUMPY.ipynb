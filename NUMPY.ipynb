{
 "cells": [
  {
   "cell_type": "markdown",
   "id": "77734b52-1c93-4434-9b61-5fd602cc151f",
   "metadata": {},
   "source": [
    "# import numpy"
   ]
  },
  {
   "cell_type": "code",
   "execution_count": 2,
   "id": "7be0747d-dca2-4b6e-88bb-5c1c6ca51267",
   "metadata": {},
   "outputs": [
    {
     "data": {
      "text/plain": [
       "numpy.ndarray"
      ]
     },
     "execution_count": 2,
     "metadata": {},
     "output_type": "execute_result"
    }
   ],
   "source": [
    "import numpy as np\n",
    "jeden_wymiar = np.array([1, 2, 3, 4])\n",
    "type(jeden_wymiar)"
   ]
  },
  {
   "cell_type": "markdown",
   "id": "7214240a-1a86-4648-aa1f-0c437d057363",
   "metadata": {},
   "source": [
    "# kształt, czyli liczba elementów każdego wymiaru i liczba wymiarów"
   ]
  },
  {
   "cell_type": "code",
   "execution_count": 3,
   "id": "3c6a4edf-299d-41cc-a7ba-4de7eb48d064",
   "metadata": {},
   "outputs": [
    {
     "data": {
      "text/plain": [
       "(4,)"
      ]
     },
     "execution_count": 3,
     "metadata": {},
     "output_type": "execute_result"
    }
   ],
   "source": [
    "jeden_wymiar.shape"
   ]
  },
  {
   "cell_type": "code",
   "execution_count": 4,
   "id": "b780402e-9acc-4b85-b42f-270ad17bccd5",
   "metadata": {},
   "outputs": [
    {
     "data": {
      "text/plain": [
       "1"
      ]
     },
     "execution_count": 4,
     "metadata": {},
     "output_type": "execute_result"
    }
   ],
   "source": [
    "jeden_wymiar.ndim"
   ]
  },
  {
   "cell_type": "markdown",
   "id": "d1c94fbb-b3a4-4a0d-a069-076e4e6b1096",
   "metadata": {},
   "source": [
    "# array poziomy lub pionowy"
   ]
  },
  {
   "cell_type": "code",
   "execution_count": 22,
   "id": "72b82f5d-b595-4f18-bd9f-6518ac272e1b",
   "metadata": {},
   "outputs": [
    {
     "name": "stdout",
     "output_type": "stream",
     "text": [
      "(1, 4)\n"
     ]
    },
    {
     "data": {
      "text/plain": [
       "array([[1, 2, 3, 4]])"
      ]
     },
     "execution_count": 22,
     "metadata": {},
     "output_type": "execute_result"
    }
   ],
   "source": [
    "jeden_wymiar_poziomy = np.array([[1,2,3,4]])\n",
    "print(jeden_wymiar_poziomy.shape)\n",
    "jeden_wymiar_poziomy\n"
   ]
  },
  {
   "cell_type": "code",
   "execution_count": 23,
   "id": "90a4189f-e5de-4084-8586-38d01aa9d0f3",
   "metadata": {},
   "outputs": [
    {
     "data": {
      "text/plain": [
       "array([[1],\n",
       "       [2],\n",
       "       [3],\n",
       "       [4]])"
      ]
     },
     "execution_count": 23,
     "metadata": {},
     "output_type": "execute_result"
    }
   ],
   "source": [
    "jeden_wymiar_pionowy = jeden_wymiar_poziomy.reshape(-1, 1)\n",
    "jeden_wymiar_pionowy"
   ]
  },
  {
   "cell_type": "code",
   "execution_count": 24,
   "id": "bb3a3974",
   "metadata": {},
   "outputs": [
    {
     "name": "stdout",
     "output_type": "stream",
     "text": [
      "[ 5 10 20] int64\n",
      "[ 5. 10. 20.] float64\n",
      "['5' '10' '20'] <U21\n"
     ]
    }
   ],
   "source": [
    "arr_01 = np.array([5, 10, 20])\n",
    "print(arr_01, arr_01.dtype)\n",
    "arr_02 = np.array([5, 10, 20.0])\n",
    "print(arr_02, arr_02.dtype)\n",
    "arr_03 = np.array([5, 10, '20'])\n",
    "print(arr_03, arr_03.dtype)"
   ]
  },
  {
   "cell_type": "code",
   "execution_count": null,
   "id": "baec041a",
   "metadata": {},
   "outputs": [
    {
     "data": {
      "text/plain": [
       "array([0.09090909, 0.18181818, 0.27272727, 0.36363636, 0.45454545,\n",
       "       0.54545455, 0.63636364, 0.72727273, 0.81818182, 0.90909091])"
      ]
     },
     "execution_count": 44,
     "metadata": {},
     "output_type": "execute_result"
    }
   ],
   "source": [
    "np.linspace(0, 1, 12)[1:-1]   #start, stop, ilosc elementow, slicing bez pierwszego i ostatniego"
   ]
  },
  {
   "cell_type": "code",
   "execution_count": 60,
   "id": "bb34934b",
   "metadata": {},
   "outputs": [
    {
     "name": "stdout",
     "output_type": "stream",
     "text": [
      "[0, 1, 2, 3, 4]\n"
     ]
    },
    {
     "data": {
      "text/plain": [
       "[[0, 1, 2, 3, 4],\n",
       " [0, 1, 2, 3, 4],\n",
       " [0, 1, 2, 3, 4],\n",
       " [0, 1, 2, 3, 4],\n",
       " [0, 1, 2, 3, 4]]"
      ]
     },
     "execution_count": 60,
     "metadata": {},
     "output_type": "execute_result"
    }
   ],
   "source": [
    "lista = list(range(0, 5))\n",
    "print(lista)\n",
    "\n",
    "array = [lista for _ in range(5)]\n",
    "array"
   ]
  },
  {
   "cell_type": "code",
   "execution_count": null,
   "id": "77a2e025",
   "metadata": {},
   "outputs": [
    {
     "name": "stdout",
     "output_type": "stream",
     "text": [
      "[0 1 4]\n",
      "[1 2 0 0 4 0]\n",
      "[1 2 4]\n"
     ]
    },
    {
     "ename": "",
     "evalue": "",
     "output_type": "error",
     "traceback": [
      "\u001b[1;31mJądro Kernel uległo awarii podczas wykonywania kodu w bieżącej komórce lub w poprzedniej komórce. \n",
      "\u001b[1;31mPrzejrzyj kod w komórkach, aby zidentyfikować możliwą przyczynę awarii. \n",
      "\u001b[1;31mKliknij <a href='https://aka.ms/vscodeJupyterKernelCrash'>tutaj</a>, aby uzyskać więcej informacji. \n",
      "\u001b[1;31mAby uzyskać dalsze szczegóły, wyświetl <a href='command:jupyter.viewOutput'>dziennik</a> Jupyter."
     ]
    }
   ],
   "source": [
    "array = np.array([1,2,0,0,4,0])\n",
    "\n",
    "indeksy = np.where(array != 0)[0]    #zwraca tyle krotek ile wymiarów, [0] robi slicing i zwraca pierwszą krotkę\n",
    "print(indeksy)              #zwraca indeksy wartości niezerowych\n",
    "\n",
    "array_2 = array[array != 0]             #tworzy nowy kopie array i wyciąga z niej wartosci tylko różne od zera\n",
    "\n",
    "print(array)        \n",
    "print(array_2)\n",
    "\n"
   ]
  },
  {
   "cell_type": "code",
   "execution_count": null,
   "id": "f1caa0ad",
   "metadata": {},
   "outputs": [],
   "source": []
  }
 ],
 "metadata": {
  "kernelspec": {
   "display_name": "Python 3",
   "language": "python",
   "name": "python3"
  },
  "language_info": {
   "codemirror_mode": {
    "name": "ipython",
    "version": 3
   },
   "file_extension": ".py",
   "mimetype": "text/x-python",
   "name": "python",
   "nbconvert_exporter": "python",
   "pygments_lexer": "ipython3",
   "version": "3.13.3"
  }
 },
 "nbformat": 4,
 "nbformat_minor": 5
}
